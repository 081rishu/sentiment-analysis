{
 "cells": [
  {
   "cell_type": "code",
   "execution_count": 93,
   "metadata": {},
   "outputs": [],
   "source": [
    "import tensorflow as tf\n",
    "import numpy as np\n",
    "import matplotlib.pyplot as plt\n",
    "import cv2\n",
    "# import seaborn as sns\n",
    "import datetime\n",
    "import pathlib\n",
    "import io\n",
    "import os\n",
    "import re\n",
    "import string\n",
    "import time\n",
    "import gensim.downloader as api\n",
    "import tensorflow_datasets as tfds\n",
    "# from PIL import image\n",
    "from numpy import random\n",
    "from sklearn.metrics import confusion_matrix, roc_curve\n",
    "from tensorflow.keras.models import Model\n",
    "from tensorflow.keras.layers import Layer\n",
    "from tensorflow.keras.layers import (Dense, Flatten, SimpleRNN, Conv1D, GRU, LSTM, BatchNormalization, Dropout, Input,                          Embedding, Bidirectional)\n",
    "from tensorflow.keras.layers.experimental.preprocessing import TextVectorization\n",
    "from tensorflow.keras.losses import BinaryCrossentropy, CategoricalCrossentropy, SparseCategoricalCrossentropy\n",
    "from tensorflow.keras.metrics import Accuracy, TopKCategoricalAccuracy, CategoricalAccuracy, SparseCategoricalAccuracy\n",
    "from tensorflow.keras.optimizers import Adam\n",
    "from tensorboard.plugins import projector"
   ]
  },
  {
   "cell_type": "code",
   "execution_count": 2,
   "metadata": {},
   "outputs": [],
   "source": [
    "BATCH_SIZE = 64"
   ]
  },
  {
   "cell_type": "markdown",
   "metadata": {},
   "source": [
    "## Data Preperation"
   ]
  },
  {
   "cell_type": "code",
   "execution_count": 3,
   "metadata": {},
   "outputs": [],
   "source": [
    "train_ds, val_ds, test_ds = tfds.load('imdb_reviews', split=['train', 'test[:50%]', 'test[50%:]'], as_supervised=True)"
   ]
  },
  {
   "cell_type": "code",
   "execution_count": 4,
   "metadata": {},
   "outputs": [
    {
     "data": {
      "text/plain": [
       "<PrefetchDataset shapes: ((), ()), types: (tf.string, tf.int64)>"
      ]
     },
     "execution_count": 4,
     "metadata": {},
     "output_type": "execute_result"
    }
   ],
   "source": [
    "train_ds"
   ]
  },
  {
   "cell_type": "code",
   "execution_count": 5,
   "metadata": {},
   "outputs": [
    {
     "name": "stdout",
     "output_type": "stream",
     "text": [
      "tf.Tensor(b\"This was an absolutely terrible movie. Don't be lured in by Christopher Walken or Michael Ironside. Both are great actors, but this must simply be their worst role in history. Even their great acting could not redeem this movie's ridiculous storyline. This movie is an early nineties US propaganda piece. The most pathetic scenes were those when the Columbian rebels were making their cases for revolutions. Maria Conchita Alonso appeared phony, and her pseudo-love affair with Walken was nothing but a pathetic emotional plug in a movie that was devoid of any real meaning. I am disappointed that there are movies like this, ruining actor's like Christopher Walken's good name. I could barely sit through it.\", shape=(), dtype=string)\n",
      "tf.Tensor(0, shape=(), dtype=int64)\n",
      "tf.Tensor(b'I have been known to fall asleep during films, but this is usually due to a combination of things including, really tired, being warm and comfortable on the sette and having just eaten a lot. However on this occasion I fell asleep because the film was rubbish. The plot development was constant. Constantly slow and boring. Things seemed to happen, but with no explanation of what was causing them or why. I admit, I may have missed part of the film, but i watched the majority of it and everything just seemed to happen of its own accord without any real concern for anything else. I cant recommend this film at all.', shape=(), dtype=string)\n",
      "tf.Tensor(0, shape=(), dtype=int64)\n"
     ]
    }
   ],
   "source": [
    "for review, label in train_ds.take(2):\n",
    "    print(review)\n",
    "    print(label)"
   ]
  },
  {
   "cell_type": "code",
   "execution_count": 6,
   "metadata": {},
   "outputs": [],
   "source": [
    "def standardization(input_data):\n",
    "    lowercase=tf.strings.lower(input_data)\n",
    "    no_tag=tf.strings.regex_replace(lowercase,\"<[^>]+>\",\"\")\n",
    "    output=tf.strings.regex_replace(no_tag,\"[%s]\"%re.escape(string.punctuation),\"\")\n",
    "\n",
    "    return output"
   ]
  },
  {
   "cell_type": "code",
   "execution_count": 7,
   "metadata": {},
   "outputs": [
    {
     "data": {
      "text/plain": [
       "<tf.Tensor: shape=(), dtype=string, numpy=b'this was an absolutely terrible movie dont be lured in by christopher walken or michael ironside both are great actors but this must simply be their worst role in history even their great acting could not redeem this movies ridiculous storyline this movie is an early nineties us propaganda piece the most pathetic scenes were those when the columbian rebels were making their cases for revolutions maria conchita alonso appeared phony and her pseudolove affair with walken was nothing but a pathetic emotional plug in a movie that was devoid of any real meaning i am disappointed that there are movies like this ruining actors like christopher walkens good name i could barely sit through it'>"
      ]
     },
     "execution_count": 7,
     "metadata": {},
     "output_type": "execute_result"
    }
   ],
   "source": [
    "standardization(tf.constant(\"This was an absolutely terrible movie. Don't be lured in by Christopher Walken or Michael Ironside. Both are great actors, but this must simply be their worst role in history. Even their great acting could not redeem this movie's ridiculous storyline. This movie is an early nineties US propaganda piece. The most pathetic scenes were those when the Columbian rebels were making their cases for revolutions. Maria Conchita Alonso appeared phony, and her pseudo-love affair with Walken was nothing but a pathetic emotional plug in a movie that was devoid of any real meaning. I am disappointed that there are movies like this, ruining actor's like Christopher Walken's good name. I could barely sit through it.\"))"
   ]
  },
  {
   "cell_type": "code",
   "execution_count": 8,
   "metadata": {},
   "outputs": [],
   "source": [
    "VOCAB_SIZE = 10000\n",
    "SEQUENCE_LENGTH = 250\n",
    "EMBEDDING_DIM = 300"
   ]
  },
  {
   "cell_type": "code",
   "execution_count": 9,
   "metadata": {},
   "outputs": [],
   "source": [
    "vectorize_layer=TextVectorization(\n",
    "    standardize=standardization,\n",
    "    max_tokens=VOCAB_SIZE,\n",
    "    output_mode='int',\n",
    "    output_sequence_length=SEQUENCE_LENGTH\n",
    ")"
   ]
  },
  {
   "cell_type": "code",
   "execution_count": 10,
   "metadata": {},
   "outputs": [],
   "source": [
    "training_data=train_ds.map(lambda x,y:x)\n",
    "vectorize_layer.adapt(training_data)"
   ]
  },
  {
   "cell_type": "code",
   "execution_count": 11,
   "metadata": {},
   "outputs": [
    {
     "data": {
      "text/plain": [
       "10000"
      ]
     },
     "execution_count": 11,
     "metadata": {},
     "output_type": "execute_result"
    }
   ],
   "source": [
    "len(vectorize_layer.get_vocabulary())"
   ]
  },
  {
   "cell_type": "code",
   "execution_count": 12,
   "metadata": {},
   "outputs": [
    {
     "name": "stdout",
     "output_type": "stream",
     "text": [
      "tf.Tensor(b\"This was an absolutely terrible movie. Don't be lured in by Christopher Walken or Michael Ironside. Both are great actors, but this must simply be their worst role in history. Even their great acting could not redeem this movie's ridiculous storyline. This movie is an early nineties US propaganda piece. The most pathetic scenes were those when the Columbian rebels were making their cases for revolutions. Maria Conchita Alonso appeared phony, and her pseudo-love affair with Walken was nothing but a pathetic emotional plug in a movie that was devoid of any real meaning. I am disappointed that there are movies like this, ruining actor's like Christopher Walken's good name. I could barely sit through it.\", shape=(), dtype=string)\n",
      "tf.Tensor(0, shape=(), dtype=int64)\n"
     ]
    }
   ],
   "source": [
    "for review, label in train_ds.take(1):\n",
    "    print(review)\n",
    "    print(label)"
   ]
  },
  {
   "cell_type": "code",
   "execution_count": 24,
   "metadata": {},
   "outputs": [],
   "source": [
    "def vectorizer(review, label):  \n",
    "    return vectorize_layer(review), label"
   ]
  },
  {
   "cell_type": "code",
   "execution_count": 25,
   "metadata": {},
   "outputs": [],
   "source": [
    "train_dataset=train_ds.map(vectorizer)\n",
    "val_dataset=val_ds.map(vectorizer)"
   ]
  },
  {
   "cell_type": "code",
   "execution_count": 26,
   "metadata": {},
   "outputs": [
    {
     "data": {
      "text/plain": [
       "'absolutely'"
      ]
     },
     "execution_count": 26,
     "metadata": {},
     "output_type": "execute_result"
    }
   ],
   "source": [
    "vectorize_layer.get_vocabulary()[411]"
   ]
  },
  {
   "cell_type": "code",
   "execution_count": 27,
   "metadata": {},
   "outputs": [
    {
     "name": "stdout",
     "output_type": "stream",
     "text": [
      "tf.Tensor(\n",
      "[  10   13   33  411  384   17   89   26    1    8   32 1336 3518   40\n",
      "  491    1  192   22   84  149   18   10  215  317   26   64  239  212\n",
      "    8  484   54   64   84  111   95   21 5559   10   91  636  737   10\n",
      "   17    7   33  393 9542  169 2442  406    2   87 1205  135   65  142\n",
      "   52    2    1 7403   65  244   64 2829   16    1 2851    1    1 1419\n",
      " 4965    3   39    1 1571   15 3518   13  156   18    4 1205  881 7864\n",
      "    8    4   17   12   13 4033    5   98  145 1233   11  236  696   12\n",
      "   48   22   91   37   10 7282  149   37 1336    1   49  397   11   95\n",
      " 1148  840  140    9    0    0    0    0    0    0    0    0    0    0\n",
      "    0    0    0    0    0    0    0    0    0    0    0    0    0    0\n",
      "    0    0    0    0    0    0    0    0    0    0    0    0    0    0\n",
      "    0    0    0    0    0    0    0    0    0    0    0    0    0    0\n",
      "    0    0    0    0    0    0    0    0    0    0    0    0    0    0\n",
      "    0    0    0    0    0    0    0    0    0    0    0    0    0    0\n",
      "    0    0    0    0    0    0    0    0    0    0    0    0    0    0\n",
      "    0    0    0    0    0    0    0    0    0    0    0    0    0    0\n",
      "    0    0    0    0    0    0    0    0    0    0    0    0    0    0\n",
      "    0    0    0    0    0    0    0    0    0    0    0    0], shape=(250,), dtype=int64)\n",
      "tf.Tensor(0, shape=(), dtype=int64)\n"
     ]
    }
   ],
   "source": [
    "for review,label in train_dataset.take(1):\n",
    "  print(review)\n",
    "  print(label)"
   ]
  },
  {
   "cell_type": "code",
   "execution_count": 28,
   "metadata": {},
   "outputs": [],
   "source": [
    "train_dataset=train_dataset.batch(BATCH_SIZE).prefetch(buffer_size=tf.data.AUTOTUNE)\n",
    "val_dataset=val_dataset.batch(BATCH_SIZE).prefetch(buffer_size=tf.data.AUTOTUNE)"
   ]
  },
  {
   "cell_type": "markdown",
   "metadata": {},
   "source": [
    "## Modeling"
   ]
  },
  {
   "cell_type": "markdown",
   "metadata": {},
   "source": [
    "### Simple RNN"
   ]
  },
  {
   "cell_type": "code",
   "execution_count": 29,
   "metadata": {},
   "outputs": [
    {
     "name": "stdout",
     "output_type": "stream",
     "text": [
      "(32, 25)\n"
     ]
    }
   ],
   "source": [
    "inputs = np.random.random([32,10,8]).astype(np.float32)\n",
    "simple_rnn = SimpleRNN(25)\n",
    "output = simple_rnn(inputs)\n",
    "print(output.shape)"
   ]
  },
  {
   "cell_type": "code",
   "execution_count": 30,
   "metadata": {},
   "outputs": [
    {
     "name": "stdout",
     "output_type": "stream",
     "text": [
      "Model: \"sequential_1\"\n",
      "_________________________________________________________________\n",
      " Layer (type)                Output Shape              Param #   \n",
      "=================================================================\n",
      " embedding_1 (Embedding)     (None, 250, 64)           640000    \n",
      "                                                                 \n",
      " simple_rnn_3 (SimpleRNN)    (None, 32)                3104      \n",
      "                                                                 \n",
      " dense_1 (Dense)             (None, 1)                 33        \n",
      "                                                                 \n",
      "=================================================================\n",
      "Total params: 643,137\n",
      "Trainable params: 643,137\n",
      "Non-trainable params: 0\n",
      "_________________________________________________________________\n"
     ]
    }
   ],
   "source": [
    "EMBEDDING_DIM = 64\n",
    "model = tf.keras.models.Sequential([\n",
    "    Input(shape=(SEQUENCE_LENGTH)),\n",
    "    Embedding(VOCAB_SIZE, EMBEDDING_DIM),\n",
    "    SimpleRNN(32),\n",
    "    Dense(1, activation='sigmoid')\n",
    "])\n",
    "model.summary()"
   ]
  },
  {
   "cell_type": "code",
   "execution_count": 31,
   "metadata": {},
   "outputs": [],
   "source": [
    "model.compile(loss=BinaryCrossentropy(),\n",
    "              optimizer = Adam(1e-4),\n",
    "              metrics=['accuracy'])"
   ]
  },
  {
   "cell_type": "code",
   "execution_count": 33,
   "metadata": {},
   "outputs": [
    {
     "name": "stdout",
     "output_type": "stream",
     "text": [
      "Epoch 1/10\n",
      "391/391 [==============================] - 355s 907ms/step - loss: 0.6771 - accuracy: 0.5784 - val_loss: 0.6905 - val_accuracy: 0.5272\n",
      "Epoch 2/10\n",
      "391/391 [==============================] - 215s 548ms/step - loss: 0.6300 - accuracy: 0.6742 - val_loss: 0.5887 - val_accuracy: 0.7264\n",
      "Epoch 3/10\n",
      "391/391 [==============================] - 177s 452ms/step - loss: 0.5679 - accuracy: 0.7213 - val_loss: 0.6797 - val_accuracy: 0.5377\n",
      "Epoch 4/10\n",
      "391/391 [==============================] - 183s 467ms/step - loss: 0.4751 - accuracy: 0.8099 - val_loss: 0.4928 - val_accuracy: 0.7966\n",
      "Epoch 5/10\n",
      "391/391 [==============================] - 190s 485ms/step - loss: 0.3854 - accuracy: 0.8620 - val_loss: 0.4154 - val_accuracy: 0.8320\n",
      "Epoch 6/10\n",
      "391/391 [==============================] - 187s 480ms/step - loss: 0.3320 - accuracy: 0.8862 - val_loss: 0.3894 - val_accuracy: 0.8434\n",
      "Epoch 7/10\n",
      "391/391 [==============================] - 189s 484ms/step - loss: 0.2901 - accuracy: 0.9031 - val_loss: 0.4293 - val_accuracy: 0.8344\n",
      "Epoch 8/10\n",
      "391/391 [==============================] - 180s 460ms/step - loss: 0.2597 - accuracy: 0.9182 - val_loss: 0.4449 - val_accuracy: 0.8317\n",
      "Epoch 9/10\n",
      "391/391 [==============================] - 160s 408ms/step - loss: 0.2468 - accuracy: 0.9195 - val_loss: 0.4278 - val_accuracy: 0.8412\n",
      "Epoch 10/10\n",
      "391/391 [==============================] - 192s 492ms/step - loss: 0.2227 - accuracy: 0.9330 - val_loss: 0.4164 - val_accuracy: 0.8305\n"
     ]
    }
   ],
   "source": [
    "history = model.fit(\n",
    "    train_dataset,\n",
    "    validation_data = val_dataset,\n",
    "    epochs = 10,\n",
    ")"
   ]
  },
  {
   "cell_type": "code",
   "execution_count": 35,
   "metadata": {},
   "outputs": [
    {
     "data": {
      "image/png": "[encoded data removed]",
      "text/plain": [
       "<Figure size 640x480 with 1 Axes>"
      ]
     },
     "metadata": {},
     "output_type": "display_data"
    }
   ],
   "source": [
    "plt.plot(history.history['loss'])\n",
    "plt.plot(history.history['val_loss'])\n",
    "plt.title('model_loss')\n",
    "plt.ylabel('loss')\n",
    "plt.xlabel('epoch')\n",
    "plt.legend(['train', 'val'], loc='upper left')\n",
    "plt.show()"
   ]
  },
  {
   "cell_type": "code",
   "execution_count": 36,
   "metadata": {},
   "outputs": [
    {
     "data": {
      "image/png": "[encoded data removed]",
      "text/plain": [
       "<Figure size 640x480 with 1 Axes>"
      ]
     },
     "metadata": {},
     "output_type": "display_data"
    }
   ],
   "source": [
    "plt.plot(history.history['accuracy'])\n",
    "plt.plot(history.history['val_accuracy'])\n",
    "plt.title('model_accuracy')\n",
    "plt.ylabel('accuracy')\n",
    "plt.xlabel('epoch')\n",
    "plt.legend(['train', 'val'], loc='upper left')\n",
    "plt.show()"
   ]
  },
  {
   "cell_type": "markdown",
   "metadata": {},
   "source": [
    "#### Evaluation"
   ]
  },
  {
   "cell_type": "code",
   "execution_count": 37,
   "metadata": {},
   "outputs": [
    {
     "name": "stdout",
     "output_type": "stream",
     "text": [
      "391/391 [==============================] - 17s 42ms/step - loss: 0.2487 - accuracy: 0.9112\n"
     ]
    },
    {
     "data": {
      "text/plain": [
       "[0.24865004420280457, 0.9112399816513062]"
      ]
     },
     "execution_count": 37,
     "metadata": {},
     "output_type": "execute_result"
    }
   ],
   "source": [
    "test_dataset = test_ds.map(vectorizer)\n",
    "test_dataset = test_dataset.batch(BATCH_SIZE)\n",
    "model.evaluate(train_dataset)"
   ]
  },
  {
   "cell_type": "markdown",
   "metadata": {},
   "source": [
    "### LSTM (Multilaayer & Bidirectional)"
   ]
  },
  {
   "cell_type": "code",
   "execution_count": 40,
   "metadata": {},
   "outputs": [
    {
     "name": "stdout",
     "output_type": "stream",
     "text": [
      "Model: \"sequential_2\"\n",
      "_________________________________________________________________\n",
      " Layer (type)                Output Shape              Param #   \n",
      "=================================================================\n",
      " embedding_3 (Embedding)     (None, 250, 64)           640000    \n",
      "                                                                 \n",
      " bidirectional (Bidirectiona  (None, 250, 128)         66048     \n",
      " l)                                                              \n",
      "                                                                 \n",
      " bidirectional_1 (Bidirectio  (None, 64)               41216     \n",
      " nal)                                                            \n",
      "                                                                 \n",
      " dense_2 (Dense)             (None, 64)                4160      \n",
      "                                                                 \n",
      " dropout (Dropout)           (None, 64)                0         \n",
      "                                                                 \n",
      " dense_3 (Dense)             (None, 1)                 65        \n",
      "                                                                 \n",
      "=================================================================\n",
      "Total params: 751,489\n",
      "Trainable params: 751,489\n",
      "Non-trainable params: 0\n",
      "_________________________________________________________________\n"
     ]
    }
   ],
   "source": [
    "EMBEDDING_DIM = 64\n",
    "model = tf.keras.models.Sequential([\n",
    "    Input(shape=(SEQUENCE_LENGTH)),\n",
    "    Embedding(VOCAB_SIZE, EMBEDDING_DIM),\n",
    "\n",
    "    Bidirectional(LSTM(64, return_sequences=True)),\n",
    "    Bidirectional(LSTM(32)),\n",
    "\n",
    "    Dense(64, activation='relu'),\n",
    "    Dropout(0.5),\n",
    "    Dense(1, activation='sigmoid')\n",
    "])\n",
    "model.summary()"
   ]
  },
  {
   "cell_type": "code",
   "execution_count": 41,
   "metadata": {},
   "outputs": [],
   "source": [
    "model.compile(loss=BinaryCrossentropy(),\n",
    "              optimizer = Adam(1e-4),\n",
    "              metrics=['accuracy'])"
   ]
  },
  {
   "cell_type": "code",
   "execution_count": 42,
   "metadata": {},
   "outputs": [
    {
     "name": "stdout",
     "output_type": "stream",
     "text": [
      "Epoch 1/10\n",
      "391/391 [==============================] - 61s 125ms/step - loss: 0.6145 - accuracy: 0.6238 - val_loss: 0.4282 - val_accuracy: 0.8038\n",
      "Epoch 2/10\n",
      "391/391 [==============================] - 48s 122ms/step - loss: 0.3279 - accuracy: 0.8694 - val_loss: 0.3317 - val_accuracy: 0.8614\n",
      "Epoch 3/10\n",
      "391/391 [==============================] - 48s 124ms/step - loss: 0.2449 - accuracy: 0.9115 - val_loss: 0.3760 - val_accuracy: 0.8625\n",
      "Epoch 4/10\n",
      "391/391 [==============================] - 48s 123ms/step - loss: 0.2057 - accuracy: 0.9308 - val_loss: 0.4362 - val_accuracy: 0.8512\n",
      "Epoch 5/10\n",
      "391/391 [==============================] - 48s 122ms/step - loss: 0.1814 - accuracy: 0.9396 - val_loss: 0.4301 - val_accuracy: 0.8542\n",
      "Epoch 6/10\n",
      "391/391 [==============================] - 48s 122ms/step - loss: 0.1671 - accuracy: 0.9454 - val_loss: 0.4283 - val_accuracy: 0.8376\n",
      "Epoch 7/10\n",
      "391/391 [==============================] - 47s 121ms/step - loss: 0.1448 - accuracy: 0.9538 - val_loss: 0.4705 - val_accuracy: 0.8376\n",
      "Epoch 8/10\n",
      "391/391 [==============================] - 48s 123ms/step - loss: 0.1201 - accuracy: 0.9641 - val_loss: 0.5378 - val_accuracy: 0.8418\n",
      "Epoch 9/10\n",
      "391/391 [==============================] - 48s 122ms/step - loss: 0.1182 - accuracy: 0.9650 - val_loss: 0.5655 - val_accuracy: 0.8462\n",
      "Epoch 10/10\n",
      "391/391 [==============================] - 48s 122ms/step - loss: 0.1134 - accuracy: 0.9654 - val_loss: 0.5581 - val_accuracy: 0.8463\n"
     ]
    }
   ],
   "source": [
    "history = model.fit(\n",
    "    train_dataset,\n",
    "    validation_data = val_dataset,\n",
    "    epochs = 10,\n",
    ")"
   ]
  },
  {
   "cell_type": "code",
   "execution_count": 43,
   "metadata": {},
   "outputs": [
    {
     "data": {
      "image/png": "[encoded data removed]",
      "text/plain": [
       "<Figure size 640x480 with 1 Axes>"
      ]
     },
     "metadata": {},
     "output_type": "display_data"
    }
   ],
   "source": [
    "plt.plot(history.history['loss'])\n",
    "plt.plot(history.history['val_loss'])\n",
    "plt.title('model_loss')\n",
    "plt.ylabel('loss')\n",
    "plt.xlabel('epoch')\n",
    "plt.legend(['train', 'val'], loc='upper left')\n",
    "plt.show()"
   ]
  },
  {
   "cell_type": "code",
   "execution_count": 44,
   "metadata": {},
   "outputs": [
    {
     "data": {
      "image/png": "[encoded data removed]",
      "text/plain": [
       "<Figure size 640x480 with 1 Axes>"
      ]
     },
     "metadata": {},
     "output_type": "display_data"
    }
   ],
   "source": [
    "plt.plot(history.history['accuracy'])\n",
    "plt.plot(history.history['val_accuracy'])\n",
    "plt.title('model_accuracy')\n",
    "plt.ylabel('accuracy')\n",
    "plt.xlabel('epoch')\n",
    "plt.legend(['train', 'val'], loc='upper left')\n",
    "plt.show()"
   ]
  },
  {
   "cell_type": "markdown",
   "metadata": {},
   "source": [
    "#### Evaluation"
   ]
  },
  {
   "cell_type": "code",
   "execution_count": 45,
   "metadata": {},
   "outputs": [
    {
     "name": "stdout",
     "output_type": "stream",
     "text": [
      "391/391 [==============================] - 19s 47ms/step - loss: 0.0730 - accuracy: 0.9804\n"
     ]
    },
    {
     "data": {
      "text/plain": [
       "[0.07301641255617142, 0.9804400205612183]"
      ]
     },
     "execution_count": 45,
     "metadata": {},
     "output_type": "execute_result"
    }
   ],
   "source": [
    "test_dataset = test_ds.map(vectorizer)\n",
    "test_dataset = test_dataset.batch(BATCH_SIZE)\n",
    "model.evaluate(train_dataset)"
   ]
  },
  {
   "cell_type": "markdown",
   "metadata": {},
   "source": [
    "### Conv1D"
   ]
  },
  {
   "cell_type": "code",
   "execution_count": 47,
   "metadata": {},
   "outputs": [
    {
     "name": "stdout",
     "output_type": "stream",
     "text": [
      "Model: \"sequential_2\"\n",
      "_________________________________________________________________\n",
      " Layer (type)                Output Shape              Param #   \n",
      "=================================================================\n",
      " embedding_3 (Embedding)     (None, 250, 64)           640000    \n",
      "                                                                 \n",
      " bidirectional (Bidirectiona  (None, 250, 128)         66048     \n",
      " l)                                                              \n",
      "                                                                 \n",
      " bidirectional_1 (Bidirectio  (None, 64)               41216     \n",
      " nal)                                                            \n",
      "                                                                 \n",
      " dense_2 (Dense)             (None, 64)                4160      \n",
      "                                                                 \n",
      " dropout (Dropout)           (None, 64)                0         \n",
      "                                                                 \n",
      " dense_3 (Dense)             (None, 1)                 65        \n",
      "                                                                 \n",
      "=================================================================\n",
      "Total params: 751,489\n",
      "Trainable params: 751,489\n",
      "Non-trainable params: 0\n",
      "_________________________________________________________________\n"
     ]
    }
   ],
   "source": [
    "EMBEDDING_DIM = 300\n",
    "mdoel = tf.keras.models.Sequential([\n",
    "    Input(shape=(SEQUENCE_LENGTH)),\n",
    "    Embedding(VOCAB_SIZE, EMBEDDING_DIM),\n",
    "\n",
    "    Conv1D(32, 3, activation='relu'),\n",
    "    Flatten(),\n",
    "    Dense(32, activation='relu'),\n",
    "    Dropout(0.5),\n",
    "    Dense(1, activation='sigmoid')\n",
    "])\n",
    "model.summary()"
   ]
  },
  {
   "cell_type": "code",
   "execution_count": 48,
   "metadata": {},
   "outputs": [],
   "source": [
    "model.compile(loss=BinaryCrossentropy(),\n",
    "              optimizer = Adam(1e-4),\n",
    "              metrics=['accuracy'])"
   ]
  },
  {
   "cell_type": "code",
   "execution_count": 49,
   "metadata": {},
   "outputs": [
    {
     "name": "stdout",
     "output_type": "stream",
     "text": [
      "Epoch 1/10\n",
      "391/391 [==============================] - 53s 125ms/step - loss: 0.1135 - accuracy: 0.9641 - val_loss: 0.5728 - val_accuracy: 0.8445\n",
      "Epoch 2/10\n",
      "391/391 [==============================] - 48s 122ms/step - loss: 0.0913 - accuracy: 0.9736 - val_loss: 0.6020 - val_accuracy: 0.8439\n",
      "Epoch 3/10\n",
      "391/391 [==============================] - 51s 130ms/step - loss: 0.0797 - accuracy: 0.9781 - val_loss: 0.7100 - val_accuracy: 0.8350\n",
      "Epoch 4/10\n",
      "391/391 [==============================] - 49s 126ms/step - loss: 0.0735 - accuracy: 0.9806 - val_loss: 0.7153 - val_accuracy: 0.8410\n",
      "Epoch 5/10\n",
      "391/391 [==============================] - 48s 123ms/step - loss: 0.0717 - accuracy: 0.9805 - val_loss: 0.7488 - val_accuracy: 0.8398\n",
      "Epoch 6/10\n",
      "391/391 [==============================] - 47s 121ms/step - loss: 0.0774 - accuracy: 0.9774 - val_loss: 0.6977 - val_accuracy: 0.8429\n",
      "Epoch 7/10\n",
      "391/391 [==============================] - 49s 124ms/step - loss: 0.0702 - accuracy: 0.9800 - val_loss: 0.7045 - val_accuracy: 0.8392\n",
      "Epoch 8/10\n",
      "391/391 [==============================] - 48s 122ms/step - loss: 0.0603 - accuracy: 0.9842 - val_loss: 0.7014 - val_accuracy: 0.8312\n",
      "Epoch 9/10\n",
      "391/391 [==============================] - 48s 123ms/step - loss: 0.0494 - accuracy: 0.9884 - val_loss: 0.7229 - val_accuracy: 0.8392\n",
      "Epoch 10/10\n",
      "391/391 [==============================] - 48s 124ms/step - loss: 0.0431 - accuracy: 0.9903 - val_loss: 0.8554 - val_accuracy: 0.8238\n"
     ]
    }
   ],
   "source": [
    "history = model.fit(\n",
    "    train_dataset,\n",
    "    validation_data = val_dataset,\n",
    "    epochs = 10,\n",
    ")"
   ]
  },
  {
   "cell_type": "code",
   "execution_count": 56,
   "metadata": {},
   "outputs": [
    {
     "data": {
      "image/png": "[encoded data removed]",
      "text/plain": [
       "<Figure size 640x480 with 1 Axes>"
      ]
     },
     "metadata": {},
     "output_type": "display_data"
    }
   ],
   "source": [
    "plt.plot(history.history['loss'])\n",
    "plt.plot(history.history['val_loss'])\n",
    "plt.title('model_loss')\n",
    "plt.ylabel('loss')\n",
    "plt.xlabel('epoch')\n",
    "plt.legend(['train', 'val'], loc='upper left')\n",
    "plt.show()"
   ]
  },
  {
   "cell_type": "code",
   "execution_count": 54,
   "metadata": {},
   "outputs": [
    {
     "data": {
      "image/png": "[encoded data removed]",
      "text/plain": [
       "<Figure size 640x480 with 1 Axes>"
      ]
     },
     "metadata": {},
     "output_type": "display_data"
    }
   ],
   "source": [
    "plt.plot(history.history['accuracy'])\n",
    "plt.plot(history.history['val_accuracy'])\n",
    "plt.title('model_accuracy')\n",
    "plt.ylabel('accuracy')\n",
    "plt.xlabel('epoch')\n",
    "plt.legend(['train', 'val'], loc='upper left')\n",
    "plt.show()"
   ]
  },
  {
   "cell_type": "markdown",
   "metadata": {},
   "source": [
    "#### Evaluation"
   ]
  },
  {
   "cell_type": "code",
   "execution_count": 55,
   "metadata": {},
   "outputs": [
    {
     "name": "stdout",
     "output_type": "stream",
     "text": [
      "391/391 [==============================] - 20s 49ms/step - loss: 0.1625 - accuracy: 0.9506\n"
     ]
    },
    {
     "data": {
      "text/plain": [
       "[0.1624894142150879, 0.9505599737167358]"
      ]
     },
     "execution_count": 55,
     "metadata": {},
     "output_type": "execute_result"
    }
   ],
   "source": [
    "test_dataset = test_ds.map(vectorizer)\n",
    "test_dataset = test_dataset.batch(BATCH_SIZE)\n",
    "model.evaluate(train_dataset)"
   ]
  },
  {
   "cell_type": "markdown",
   "metadata": {},
   "source": [
    "### Pretrained Word2Vec(Gensim) "
   ]
  },
  {
   "cell_type": "code",
   "execution_count": 62,
   "metadata": {},
   "outputs": [
    {
     "name": "stdout",
     "output_type": "stream",
     "text": [
      "[==================================================] 100.0% 1662.8/1662.8MB downloaded\n"
     ]
    }
   ],
   "source": [
    "word2vec = api.load('word2vec-google-news-300')"
   ]
  },
  {
   "cell_type": "code",
   "execution_count": 63,
   "metadata": {},
   "outputs": [
    {
     "data": {
      "text/plain": [
       "(3000000, 300)"
      ]
     },
     "execution_count": 63,
     "metadata": {},
     "output_type": "execute_result"
    }
   ],
   "source": [
    "word2vec.vectors.shape"
   ]
  },
  {
   "cell_type": "code",
   "execution_count": 64,
   "metadata": {},
   "outputs": [
    {
     "data": {
      "text/plain": [
       "300"
      ]
     },
     "execution_count": 64,
     "metadata": {},
     "output_type": "execute_result"
    }
   ],
   "source": [
    "len(word2vec['The'])"
   ]
  },
  {
   "cell_type": "code",
   "execution_count": 65,
   "metadata": {},
   "outputs": [
    {
     "data": {
      "text/plain": [
       "[('Woman', 0.6939345002174377),\n",
       " ('Boy', 0.5896925330162048),\n",
       " ('Girl', 0.584598958492279),\n",
       " ('Suspect', 0.5577560067176819),\n",
       " ('Couple', 0.5528685450553894),\n",
       " ('man', 0.5316051840782166),\n",
       " ('Robber', 0.5315312743186951),\n",
       " ('Teenager', 0.5161930322647095),\n",
       " ('depicts_Michelangelo_Creation', 0.5148172378540039),\n",
       " ('Policeman', 0.5136396884918213)]"
      ]
     },
     "execution_count": 65,
     "metadata": {},
     "output_type": "execute_result"
    }
   ],
   "source": [
    "word2vec.most_similar('Man')"
   ]
  },
  {
   "cell_type": "code",
   "execution_count": 66,
   "metadata": {},
   "outputs": [],
   "source": [
    "pretrained_embeddings=[]"
   ]
  },
  {
   "cell_type": "code",
   "execution_count": 67,
   "metadata": {},
   "outputs": [],
   "source": [
    "def first_caps(word):\n",
    "    return word[0].upper+word[1:]"
   ]
  },
  {
   "cell_type": "code",
   "execution_count": 68,
   "metadata": {},
   "outputs": [
    {
     "data": {
      "text/plain": [
       "'the'"
      ]
     },
     "execution_count": 68,
     "metadata": {},
     "output_type": "execute_result"
    }
   ],
   "source": [
    "vectorize_layer.get_vocabulary()[2]"
   ]
  },
  {
   "cell_type": "code",
   "execution_count": 69,
   "metadata": {},
   "outputs": [
    {
     "data": {
      "text/plain": [
       "10000"
      ]
     },
     "execution_count": 69,
     "metadata": {},
     "output_type": "execute_result"
    }
   ],
   "source": [
    "len(vectorize_layer.get_vocabulary())"
   ]
  },
  {
   "cell_type": "code",
   "execution_count": 70,
   "metadata": {},
   "outputs": [
    {
     "name": "stdout",
     "output_type": "stream",
     "text": [
      "\n",
      "nosolution\n",
      "iis==================================== 0\n",
      "[UNK]\n",
      "nosolution\n",
      "and\n",
      "nosolution\n",
      "a\n",
      "nosolution\n",
      "of\n",
      "nosolution\n",
      "to\n",
      "nosolution\n",
      "doesnt\n",
      "nosolution\n",
      "didnt\n",
      "nosolution\n",
      "isnt\n",
      "nosolution\n",
      "wasnt\n",
      "nosolution\n",
      "10\n",
      "nosolution\n",
      "80s\n",
      "nosolution\n",
      "20\n",
      "nosolution\n",
      "70s\n",
      "nosolution\n",
      "iis==================================== 1000\n",
      "15\n",
      "nosolution\n",
      "12\n",
      "nosolution\n",
      "30\n",
      "nosolution\n",
      "humour\n",
      "nosolution\n",
      "100\n",
      "nosolution\n",
      "hasnt\n",
      "nosolution\n",
      "shouldnt\n",
      "nosolution\n",
      "90\n",
      "nosolution\n",
      "favourite\n",
      "nosolution\n",
      "theatre\n",
      "nosolution\n",
      "60s\n",
      "nosolution\n",
      "40\n",
      "nosolution\n",
      "lowbudget\n",
      "nosolution\n",
      "tarzan\n",
      "nosolution\n",
      "50\n",
      "nosolution\n",
      "90s\n",
      "nosolution\n",
      "1950s\n",
      "nosolution\n",
      "iis==================================== 2000\n",
      "keaton\n",
      "nosolution\n",
      "welles\n",
      "nosolution\n",
      "50s\n",
      "nosolution\n",
      "1010\n",
      "nosolution\n",
      "11\n",
      "nosolution\n",
      "1970s\n",
      "nosolution\n",
      "overthetop\n",
      "nosolution\n",
      "sinatra\n",
      "nosolution\n",
      "columbo\n",
      "nosolution\n",
      "1980s\n",
      "nosolution\n",
      "25\n",
      "nosolution\n",
      "1930s\n",
      "nosolution\n",
      "14\n",
      "nosolution\n",
      "13\n",
      "nosolution\n",
      "bmovie\n",
      "nosolution\n",
      "aint\n",
      "nosolution\n",
      "pacino\n",
      "nosolution\n",
      "moviethe\n",
      "nosolution\n",
      "itthe\n",
      "nosolution\n",
      "writerdirector\n",
      "nosolution\n",
      "lugosi\n",
      "nosolution\n",
      "hitchcock\n",
      "nosolution\n",
      "810\n",
      "nosolution\n",
      "iis==================================== 3000\n",
      "30s\n",
      "nosolution\n",
      "filmthe\n",
      "nosolution\n",
      "2006\n",
      "nosolution\n",
      "1960s\n",
      "nosolution\n",
      "110\n",
      "nosolution\n",
      "2000\n",
      "nosolution\n",
      "wwii\n",
      "nosolution\n",
      "grey\n",
      "nosolution\n",
      "bettie\n",
      "nosolution\n",
      "710\n",
      "nosolution\n",
      "sandler\n",
      "nosolution\n",
      "widmark\n",
      "nosolution\n",
      "stanwyck\n",
      "nosolution\n",
      "mst3k\n",
      "nosolution\n",
      "colour\n",
      "nosolution\n",
      "2001\n",
      "nosolution\n",
      "seagal\n",
      "nosolution\n",
      "80\n",
      "nosolution\n",
      "18\n",
      "nosolution\n",
      "moviei\n",
      "nosolution\n",
      "matthau\n",
      "nosolution\n",
      "17\n",
      "nosolution\n",
      "branagh\n",
      "nosolution\n",
      "24\n",
      "nosolution\n",
      "realise\n",
      "nosolution\n",
      "mustsee\n",
      "nosolution\n",
      "denzel\n",
      "nosolution\n",
      "45\n",
      "nosolution\n",
      "brando\n",
      "nosolution\n",
      "40s\n",
      "nosolution\n",
      "walken\n",
      "nosolution\n",
      "2005\n",
      "nosolution\n",
      "911\n",
      "nosolution\n",
      "streisand\n",
      "nosolution\n",
      "karloff\n",
      "nosolution\n",
      "heston\n",
      "nosolution\n",
      "flynn\n",
      "nosolution\n",
      "310\n",
      "nosolution\n",
      "20th\n",
      "nosolution\n",
      "ritter\n",
      "nosolution\n",
      "spielberg\n",
      "nosolution\n",
      "910\n",
      "nosolution\n",
      "elvira\n",
      "nosolution\n",
      "410\n",
      "nosolution\n",
      "eyre\n",
      "nosolution\n",
      "cusack\n",
      "nosolution\n",
      "carrey\n",
      "nosolution\n",
      "cagney\n",
      "nosolution\n",
      "brosnan\n",
      "nosolution\n",
      "60\n",
      "nosolution\n",
      "hollywoods\n",
      "nosolution\n",
      "2004\n",
      "nosolution\n",
      "mildred\n",
      "nosolution\n",
      "astaire\n",
      "nosolution\n",
      "iis==================================== 4000\n",
      "2003\n",
      "nosolution\n",
      "16\n",
      "nosolution\n",
      "falk\n",
      "nosolution\n",
      "2002\n",
      "nosolution\n",
      "1990s\n",
      "nosolution\n",
      "uwe\n",
      "nosolution\n",
      "voight\n",
      "nosolution\n",
      "paulie\n",
      "nosolution\n",
      "eastwood\n",
      "nosolution\n",
      "orson\n",
      "nosolution\n",
      "madefortv\n",
      "nosolution\n",
      "1999\n",
      "nosolution\n",
      "onedimensional\n",
      "nosolution\n",
      "lemmon\n",
      "nosolution\n",
      "1996\n",
      "nosolution\n",
      "1980\n",
      "nosolution\n",
      "miike\n",
      "nosolution\n",
      "streep\n",
      "nosolution\n",
      "carradine\n",
      "nosolution\n",
      "beatty\n",
      "nosolution\n",
      "70\n",
      "nosolution\n",
      "3000\n",
      "nosolution\n",
      "2007\n",
      "nosolution\n",
      "niro\n",
      "nosolution\n",
      "disneys\n",
      "nosolution\n",
      "1972\n",
      "nosolution\n",
      "1940s\n",
      "nosolution\n",
      "fonda\n",
      "nosolution\n",
      "1990\n",
      "nosolution\n",
      "paltrow\n",
      "nosolution\n",
      "gundam\n",
      "nosolution\n",
      "bakshi\n",
      "nosolution\n",
      "1968\n",
      "nosolution\n",
      "1983\n",
      "nosolution\n",
      "bacall\n",
      "nosolution\n",
      "–\n",
      "nosolution\n",
      "210\n",
      "nosolution\n",
      "1973\n",
      "nosolution\n",
      "christy\n",
      "nosolution\n",
      "13th\n",
      "nosolution\n",
      "whoopi\n",
      "nosolution\n",
      "timon\n",
      "nosolution\n",
      "bergman\n",
      "nosolution\n",
      "iis==================================== 5000\n",
      "35\n",
      "nosolution\n",
      "verhoeven\n",
      "nosolution\n",
      "romero\n",
      "nosolution\n",
      "ramones\n",
      "nosolution\n",
      "lumet\n",
      "nosolution\n",
      "kubrick\n",
      "nosolution\n",
      "fulci\n",
      "nosolution\n",
      "dolph\n",
      "nosolution\n",
      "polanski\n",
      "nosolution\n",
      "1984\n",
      "nosolution\n",
      "raines\n",
      "nosolution\n",
      "meryl\n",
      "nosolution\n",
      "favour\n",
      "nosolution\n",
      "1971\n",
      "nosolution\n",
      "1933\n",
      "nosolution\n",
      "othello\n",
      "nosolution\n",
      "lundgren\n",
      "nosolution\n",
      "behaviour\n",
      "nosolution\n",
      "barrymore\n",
      "nosolution\n",
      "amitabh\n",
      "nosolution\n",
      "pg13\n",
      "nosolution\n",
      "connery\n",
      "nosolution\n",
      "1993\n",
      "nosolution\n",
      "1987\n",
      "nosolution\n",
      "ustinov\n",
      "nosolution\n",
      "realised\n",
      "nosolution\n",
      "mclaglen\n",
      "nosolution\n",
      "hawke\n",
      "nosolution\n",
      "griffith\n",
      "nosolution\n",
      "carell\n",
      "nosolution\n",
      "wellwritten\n",
      "nosolution\n",
      "thoughtprovoking\n",
      "nosolution\n",
      "sabrina\n",
      "nosolution\n",
      "macarthur\n",
      "nosolution\n",
      "laurence\n",
      "nosolution\n",
      "biko\n",
      "nosolution\n",
      "antwone\n",
      "nosolution\n",
      "75\n",
      "nosolution\n",
      "19th\n",
      "nosolution\n",
      "1995\n",
      "nosolution\n",
      "palance\n",
      "nosolution\n",
      "hitlers\n",
      "nosolution\n",
      "1997\n",
      "nosolution\n",
      "1986\n",
      "nosolution\n",
      "damme\n",
      "nosolution\n",
      "belushi\n",
      "nosolution\n",
      "1970\n",
      "nosolution\n",
      "1936\n",
      "nosolution\n",
      "shakespeares\n",
      "nosolution\n",
      "malone\n",
      "nosolution\n",
      "deniro\n",
      "nosolution\n",
      "cassidy\n",
      "nosolution\n",
      "73\n",
      "nosolution\n",
      "2008\n",
      "nosolution\n",
      "1978\n",
      "nosolution\n",
      "palma\n",
      "nosolution\n",
      "kolchak\n",
      "nosolution\n",
      "basinger\n",
      "nosolution\n",
      "1989\n",
      "nosolution\n",
      "1979\n",
      "nosolution\n",
      "welldone\n",
      "nosolution\n",
      "tierney\n",
      "nosolution\n",
      "soso\n",
      "nosolution\n",
      "ratso\n",
      "nosolution\n",
      "jacksons\n",
      "nosolution\n",
      "wellmade\n",
      "nosolution\n",
      "paxton\n",
      "nosolution\n",
      "nicolas\n",
      "nosolution\n",
      "fontaine\n",
      "nosolution\n",
      "drivein\n",
      "nosolution\n",
      "foxx\n",
      "nosolution\n",
      "sirk\n",
      "nosolution\n",
      "rukh\n",
      "nosolution\n",
      "centre\n",
      "nosolution\n",
      "audrey\n",
      "nosolution\n",
      "altman\n",
      "nosolution\n",
      "23\n",
      "nosolution\n",
      "1988\n",
      "nosolution\n",
      "winchester\n",
      "nosolution\n",
      "marlon\n",
      "nosolution\n",
      "freddys\n",
      "nosolution\n",
      "esther\n",
      "nosolution\n",
      "allens\n",
      "nosolution\n",
      "1981\n",
      "nosolution\n",
      "1976\n",
      "nosolution\n",
      "1969\n",
      "nosolution\n",
      "1000\n",
      "nosolution\n",
      "zombi\n",
      "nosolution\n",
      "knightley\n",
      "nosolution\n",
      "kline\n",
      "nosolution\n",
      "cassavetes\n",
      "nosolution\n",
      "22\n",
      "nosolution\n",
      "1945\n",
      "nosolution\n",
      "quaid\n",
      "nosolution\n",
      "iis==================================== 6000\n",
      "hartley\n",
      "nosolution\n",
      "duvall\n",
      "nosolution\n",
      "tarantino\n",
      "nosolution\n",
      "stallone\n",
      "nosolution\n",
      "ingrid\n",
      "nosolution\n",
      "gillian\n",
      "nosolution\n",
      "21st\n",
      "nosolution\n",
      "1939\n",
      "nosolution\n",
      "soylent\n",
      "nosolution\n",
      "lukas\n",
      "nosolution\n",
      "colours\n",
      "nosolution\n",
      "austen\n",
      "nosolution\n",
      "alvin\n",
      "nosolution\n",
      "1991\n",
      "nosolution\n",
      "1977\n",
      "nosolution\n",
      "wendigo\n",
      "nosolution\n",
      "gere\n",
      "nosolution\n",
      "bronson\n",
      "nosolution\n",
      "attenborough\n",
      "nosolution\n",
      "zane\n",
      "nosolution\n",
      "sg1\n",
      "nosolution\n",
      "loretta\n",
      "nosolution\n",
      "irene\n",
      "nosolution\n",
      "ebert\n",
      "nosolution\n",
      "cecil\n",
      "nosolution\n",
      "bmovies\n",
      "nosolution\n",
      "antonioni\n",
      "nosolution\n",
      "africanamerican\n",
      "nosolution\n",
      "300\n",
      "nosolution\n",
      "1985\n",
      "nosolution\n",
      "1950\n",
      "nosolution\n",
      "zizek\n",
      "nosolution\n",
      "timberlake\n",
      "nosolution\n",
      "soderbergh\n",
      "nosolution\n",
      "ohara\n",
      "nosolution\n",
      "mitchum\n",
      "nosolution\n",
      "mathieu\n",
      "nosolution\n",
      "itthis\n",
      "nosolution\n",
      "harriet\n",
      "nosolution\n",
      "fairbanks\n",
      "nosolution\n",
      "errol\n",
      "nosolution\n",
      "cushing\n",
      "nosolution\n",
      "bsg\n",
      "nosolution\n",
      "beowulf\n",
      "nosolution\n",
      "alexandre\n",
      "nosolution\n",
      "95\n",
      "nosolution\n",
      "28\n",
      "nosolution\n",
      "1994\n",
      "nosolution\n",
      "1974\n",
      "nosolution\n",
      "1920s\n",
      "nosolution\n",
      "wellacted\n",
      "nosolution\n",
      "stewarts\n",
      "nosolution\n",
      "kurosawa\n",
      "nosolution\n",
      "goldblum\n",
      "nosolution\n",
      "amrita\n",
      "nosolution\n",
      "200\n",
      "nosolution\n",
      "scotts\n",
      "nosolution\n",
      "rowlands\n",
      "nosolution\n",
      "quentin\n",
      "nosolution\n",
      "pickford\n",
      "nosolution\n",
      "nolte\n",
      "nosolution\n",
      "liveaction\n",
      "nosolution\n",
      "kellys\n",
      "nosolution\n",
      "hackman\n",
      "nosolution\n",
      "gamera\n",
      "nosolution\n",
      "affleck\n",
      "nosolution\n",
      "19\n",
      "nosolution\n",
      "truman\n",
      "nosolution\n",
      "tonys\n",
      "nosolution\n",
      "pumbaa\n",
      "nosolution\n",
      "juliette\n",
      "nosolution\n",
      "hayworth\n",
      "nosolution\n",
      "firstrate\n",
      "nosolution\n",
      "21\n",
      "nosolution\n",
      "1959\n",
      "nosolution\n",
      "1944\n",
      "nosolution\n",
      "tongueincheek\n",
      "nosolution\n",
      "timethe\n",
      "nosolution\n",
      "themthe\n",
      "nosolution\n",
      "precode\n",
      "nosolution\n",
      "melvyn\n",
      "nosolution\n",
      "kinnear\n",
      "nosolution\n",
      "hepburn\n",
      "nosolution\n",
      "gielgud\n",
      "nosolution\n",
      "deanna\n",
      "nosolution\n",
      "clive\n",
      "nosolution\n",
      "caron\n",
      "nosolution\n",
      "barbra\n",
      "nosolution\n",
      "axe\n",
      "nosolution\n",
      "xfiles\n",
      "nosolution\n",
      "sarandon\n",
      "nosolution\n",
      "preminger\n",
      "nosolution\n",
      "pfeiffer\n",
      "nosolution\n",
      "lucille\n",
      "nosolution\n",
      "longoria\n",
      "nosolution\n",
      "keatons\n",
      "nosolution\n",
      "huston\n",
      "nosolution\n",
      "haines\n",
      "nosolution\n",
      "gypo\n",
      "nosolution\n",
      "daylewis\n",
      "nosolution\n",
      "casablanca\n",
      "nosolution\n",
      "blandings\n",
      "nosolution\n",
      "99\n",
      "nosolution\n",
      "1975\n",
      "nosolution\n",
      "1953\n",
      "nosolution\n",
      "thelma\n",
      "nosolution\n",
      "rosemarys\n",
      "nosolution\n",
      "niven\n",
      "nosolution\n",
      "mcqueen\n",
      "nosolution\n",
      "iis==================================== 7000\n",
      "gwyneth\n",
      "nosolution\n",
      "corman\n",
      "nosolution\n",
      "34\n",
      "nosolution\n",
      "1998\n",
      "nosolution\n",
      "1940\n",
      "nosolution\n",
      "thurman\n",
      "nosolution\n",
      "scorsese\n",
      "nosolution\n",
      "minnelli\n",
      "nosolution\n",
      "masterson\n",
      "nosolution\n",
      "hadley\n",
      "nosolution\n",
      "fishburne\n",
      "nosolution\n",
      "busey\n",
      "nosolution\n",
      "arquette\n",
      "nosolution\n",
      "1982\n",
      "nosolution\n",
      "1948\n",
      "nosolution\n",
      "tomei\n",
      "nosolution\n",
      "sondra\n",
      "nosolution\n",
      "selfindulgent\n",
      "nosolution\n",
      "reiser\n",
      "nosolution\n",
      "penelope\n",
      "nosolution\n",
      "naschy\n",
      "nosolution\n",
      "mabel\n",
      "nosolution\n",
      "kazan\n",
      "nosolution\n",
      "itit\n",
      "nosolution\n",
      "edith\n",
      "nosolution\n",
      "branaghs\n",
      "nosolution\n",
      "1934\n",
      "nosolution\n",
      "zorro\n",
      "nosolution\n",
      "troma\n",
      "nosolution\n",
      "miyazaki\n",
      "nosolution\n",
      "laputa\n",
      "nosolution\n",
      "kubricks\n",
      "nosolution\n",
      "kells\n",
      "nosolution\n",
      "harlow\n",
      "nosolution\n",
      "dillinger\n",
      "nosolution\n",
      "cheadle\n",
      "nosolution\n",
      "characterisation\n",
      "nosolution\n",
      "blaise\n",
      "nosolution\n",
      "beckinsale\n",
      "nosolution\n",
      "arkin\n",
      "nosolution\n",
      "1992\n",
      "nosolution\n",
      "wayans\n",
      "nosolution\n",
      "silverman\n",
      "nosolution\n",
      "realises\n",
      "nosolution\n",
      "pegg\n",
      "nosolution\n",
      "mustve\n",
      "nosolution\n",
      "collette\n",
      "nosolution\n",
      "1967\n",
      "nosolution\n",
      "101\n",
      "nosolution\n",
      "vargas\n",
      "nosolution\n",
      "sammo\n",
      "nosolution\n",
      "northam\n",
      "nosolution\n",
      "lynchs\n",
      "nosolution\n",
      "iturbi\n",
      "nosolution\n",
      "itbut\n",
      "nosolution\n",
      "hitchcocks\n",
      "nosolution\n",
      "gackt\n",
      "nosolution\n",
      "favourites\n",
      "nosolution\n",
      "demille\n",
      "nosolution\n",
      "chiba\n",
      "nosolution\n",
      "85\n",
      "nosolution\n",
      "programme\n",
      "nosolution\n",
      "marisa\n",
      "nosolution\n",
      "madsen\n",
      "nosolution\n",
      "krueger\n",
      "nosolution\n",
      "johansson\n",
      "nosolution\n",
      "galactica\n",
      "nosolution\n",
      "fassbinder\n",
      "nosolution\n",
      "blackandwhite\n",
      "nosolution\n",
      "bakshis\n",
      "nosolution\n",
      "1963\n",
      "nosolution\n",
      "1951\n",
      "nosolution\n",
      "1943\n",
      "nosolution\n",
      "takashi\n",
      "nosolution\n",
      "sholay\n",
      "nosolution\n",
      "scoobydoo\n",
      "nosolution\n",
      "myrna\n",
      "nosolution\n",
      "miikes\n",
      "nosolution\n",
      "kinski\n",
      "nosolution\n",
      "jagger\n",
      "nosolution\n",
      "finney\n",
      "nosolution\n",
      "filmit\n",
      "nosolution\n",
      "elsa\n",
      "nosolution\n",
      "dafoe\n",
      "nosolution\n",
      "creasy\n",
      "nosolution\n",
      "caprica\n",
      "nosolution\n",
      "cancelled\n",
      "nosolution\n",
      "adele\n",
      "nosolution\n",
      "movieit\n",
      "nosolution\n",
      "garfield\n",
      "nosolution\n",
      "cedric\n",
      "nosolution\n",
      "bernsen\n",
      "nosolution\n",
      "26\n",
      "nosolution\n",
      "1932\n",
      "nosolution\n",
      "theodore\n",
      "nosolution\n",
      "storythe\n",
      "nosolution\n",
      "selfcentered\n",
      "nosolution\n",
      "rourke\n",
      "nosolution\n",
      "moores\n",
      "nosolution\n",
      "macmurray\n",
      "nosolution\n",
      "iis==================================== 8000\n",
      "isabelle\n",
      "nosolution\n",
      "giovanna\n",
      "nosolution\n",
      "gilliam\n",
      "nosolution\n",
      "feinstone\n",
      "nosolution\n",
      "ealing\n",
      "nosolution\n",
      "dahmer\n",
      "nosolution\n",
      "coburn\n",
      "nosolution\n",
      "carlitos\n",
      "nosolution\n",
      "capote\n",
      "nosolution\n",
      "blondell\n",
      "nosolution\n",
      "1966\n",
      "nosolution\n",
      "1958\n",
      "nosolution\n",
      "warhols\n",
      "nosolution\n",
      "timei\n",
      "nosolution\n",
      "theatres\n",
      "nosolution\n",
      "tashan\n",
      "nosolution\n",
      "obrien\n",
      "nosolution\n",
      "harron\n",
      "nosolution\n",
      "gretchen\n",
      "nosolution\n",
      "govinda\n",
      "nosolution\n",
      "gena\n",
      "nosolution\n",
      "ferrell\n",
      "nosolution\n",
      "englund\n",
      "nosolution\n",
      "dunst\n",
      "nosolution\n",
      "dreyfuss\n",
      "nosolution\n",
      "davids\n",
      "nosolution\n",
      "cheech\n",
      "nosolution\n",
      "brashear\n",
      "nosolution\n",
      "waythe\n",
      "nosolution\n",
      "waynes\n",
      "nosolution\n",
      "vincenzo\n",
      "nosolution\n",
      "seuss\n",
      "nosolution\n",
      "malden\n",
      "nosolution\n",
      "himthe\n",
      "nosolution\n",
      "gershwin\n",
      "nosolution\n",
      "directtovideo\n",
      "nosolution\n",
      "cravens\n",
      "nosolution\n",
      "berenger\n",
      "nosolution\n",
      "1955\n",
      "nosolution\n",
      "1946\n",
      "nosolution\n",
      "tsui\n",
      "nosolution\n",
      "mcadams\n",
      "nosolution\n",
      "loren\n",
      "nosolution\n",
      "keanu\n",
      "nosolution\n",
      "hartleys\n",
      "nosolution\n",
      "gino\n",
      "nosolution\n",
      "gandolfini\n",
      "nosolution\n",
      "flavia\n",
      "nosolution\n",
      "filmthis\n",
      "nosolution\n",
      "duchovny\n",
      "nosolution\n",
      "depardieu\n",
      "nosolution\n",
      "altmans\n",
      "nosolution\n",
      "sykes\n",
      "nosolution\n",
      "straighttovideo\n",
      "nosolution\n",
      "oscarwinning\n",
      "nosolution\n",
      "movieits\n",
      "nosolution\n",
      "methe\n",
      "nosolution\n",
      "massey\n",
      "nosolution\n",
      "liotta\n",
      "nosolution\n",
      "hanzo\n",
      "nosolution\n",
      "geoffrey\n",
      "nosolution\n",
      "faye\n",
      "nosolution\n",
      "ewoks\n",
      "nosolution\n",
      "edmund\n",
      "nosolution\n",
      "colman\n",
      "nosolution\n",
      "clarence\n",
      "nosolution\n",
      "chans\n",
      "nosolution\n",
      "byron\n",
      "nosolution\n",
      "20s\n",
      "nosolution\n",
      "zelah\n",
      "nosolution\n",
      "vaughn\n",
      "nosolution\n",
      "slowmotion\n",
      "nosolution\n",
      "sematary\n",
      "nosolution\n",
      "romeros\n",
      "nosolution\n",
      "redford\n",
      "nosolution\n",
      "oneill\n",
      "nosolution\n",
      "natali\n",
      "nosolution\n",
      "myra\n",
      "nosolution\n",
      "muriel\n",
      "nosolution\n",
      "luthor\n",
      "nosolution\n",
      "lorre\n",
      "nosolution\n",
      "kristofferson\n",
      "nosolution\n",
      "kilmer\n",
      "nosolution\n",
      "kalifornia\n",
      "nosolution\n",
      "judgement\n",
      "nosolution\n",
      "harilal\n",
      "nosolution\n",
      "goldsworthy\n",
      "nosolution\n",
      "forsythe\n",
      "nosolution\n",
      "fellini\n",
      "nosolution\n",
      "farrah\n",
      "nosolution\n",
      "dunne\n",
      "nosolution\n",
      "doris\n",
      "nosolution\n",
      "darius\n",
      "nosolution\n",
      "daria\n",
      "nosolution\n",
      "christensen\n",
      "nosolution\n",
      "arnie\n",
      "nosolution\n",
      "700\n",
      "nosolution\n",
      "51\n",
      "nosolution\n",
      "1964\n",
      "nosolution\n",
      "1957\n",
      "nosolution\n",
      "150\n",
      "nosolution\n",
      "wwi\n",
      "nosolution\n",
      "visconti\n",
      "nosolution\n",
      "taime\n",
      "nosolution\n",
      "shatner\n",
      "nosolution\n",
      "sammi\n",
      "nosolution\n",
      "redgrave\n",
      "nosolution\n",
      "pertwee\n",
      "nosolution\n",
      "natasha\n",
      "nosolution\n",
      "movieand\n",
      "nosolution\n",
      "miyazakis\n",
      "nosolution\n",
      "mcdermott\n",
      "nosolution\n",
      "lansbury\n",
      "nosolution\n",
      "kornbluth\n",
      "nosolution\n",
      "kareena\n",
      "nosolution\n",
      "grendel\n",
      "nosolution\n",
      "godard\n",
      "nosolution\n",
      "glenda\n",
      "nosolution\n",
      "fagin\n",
      "nosolution\n",
      "elisha\n",
      "nosolution\n",
      "eastwoods\n",
      "nosolution\n",
      "dukakis\n",
      "nosolution\n",
      "iis==================================== 9000\n",
      "dillon\n",
      "nosolution\n",
      "benoit\n",
      "nosolution\n",
      "aztec\n",
      "nosolution\n",
      "98\n",
      "nosolution\n",
      "27\n",
      "nosolution\n",
      "010\n",
      "nosolution\n",
      "zabriskie\n",
      "nosolution\n",
      "verhoevens\n",
      "nosolution\n",
      "valerie\n",
      "nosolution\n",
      "sinatras\n",
      "nosolution\n",
      "segal\n",
      "nosolution\n",
      "sarne\n",
      "nosolution\n",
      "rko\n",
      "nosolution\n",
      "noam\n",
      "nosolution\n",
      "neeson\n",
      "nosolution\n",
      "midler\n",
      "nosolution\n",
      "mcdowell\n",
      "nosolution\n",
      "martino\n",
      "nosolution\n",
      "maguire\n",
      "nosolution\n",
      "luzhin\n",
      "nosolution\n",
      "keitel\n",
      "nosolution\n",
      "izzard\n",
      "nosolution\n",
      "herethe\n",
      "nosolution\n",
      "gannon\n",
      "nosolution\n",
      "featurelength\n",
      "nosolution\n",
      "farnsworth\n",
      "nosolution\n",
      "elmer\n",
      "nosolution\n",
      "dickinson\n",
      "nosolution\n",
      "crenna\n",
      "nosolution\n",
      "cortez\n",
      "nosolution\n",
      "coppola\n",
      "nosolution\n",
      "btk\n",
      "nosolution\n",
      "azumi\n",
      "nosolution\n",
      "48\n",
      "nosolution\n",
      "250\n",
      "nosolution\n",
      "victorias\n",
      "nosolution\n",
      "thatll\n",
      "nosolution\n",
      "shakespearean\n",
      "nosolution\n",
      "rosenstrasse\n",
      "nosolution\n",
      "rizzo\n",
      "nosolution\n",
      "murphys\n",
      "nosolution\n",
      "moviethis\n",
      "nosolution\n",
      "mostel\n",
      "nosolution\n",
      "lucio\n",
      "nosolution\n",
      "lubitsch\n",
      "nosolution\n",
      "it´s\n",
      "nosolution\n",
      "harrys\n",
      "nosolution\n",
      "grady\n",
      "nosolution\n",
      "goodthe\n",
      "nosolution\n",
      "floriane\n",
      "nosolution\n",
      "fatherson\n",
      "nosolution\n",
      "duryea\n",
      "nosolution\n",
      "durbin\n",
      "nosolution\n",
      "corbin\n",
      "nosolution\n",
      "callahan\n",
      "nosolution\n",
      "bolivia\n",
      "nosolution\n",
      "2009\n",
      "nosolution\n",
      "1949\n",
      "nosolution\n",
      "1938\n",
      "nosolution\n",
      "1931\n",
      "nosolution\n",
      "18th\n",
      "nosolution\n",
      "spielbergs\n",
      "nosolution\n",
      "sorvino\n",
      "nosolution\n",
      "sloane\n",
      "nosolution\n",
      "seinfeld\n",
      "nosolution\n",
      "sciencefiction\n",
      "nosolution\n",
      "rainer\n",
      "nosolution\n",
      "pauls\n",
      "nosolution\n",
      "morgana\n",
      "nosolution\n",
      "lotr\n",
      "nosolution\n",
      "hisher\n",
      "nosolution\n",
      "guevara\n",
      "nosolution\n",
      "granger\n",
      "nosolution\n",
      "culkin\n",
      "nosolution\n",
      "cruella\n",
      "nosolution\n",
      "connolly\n",
      "nosolution\n",
      "cillian\n",
      "nosolution\n",
      "carole\n",
      "nosolution\n",
      "carlito\n",
      "nosolution\n",
      "batwoman\n",
      "nosolution\n",
      "andersons\n",
      "nosolution\n",
      "500\n",
      "nosolution\n",
      "400\n",
      "nosolution\n",
      "zatoichi\n",
      "nosolution\n",
      "wellthe\n",
      "nosolution\n",
      "viggo\n",
      "nosolution\n",
      "twodimensional\n",
      "nosolution\n",
      "thisthe\n",
      "nosolution\n",
      "streisands\n",
      "nosolution\n",
      "spoton\n",
      "nosolution\n",
      "slowmoving\n",
      "nosolution\n",
      "poppins\n",
      "nosolution\n",
      "phyllis\n",
      "nosolution\n",
      "pavarotti\n",
      "nosolution\n",
      "ossessione\n",
      "nosolution\n",
      "onethe\n",
      "nosolution\n",
      "mastroianni\n",
      "nosolution\n",
      "marvellous\n",
      "nosolution\n",
      "mamet\n",
      "nosolution\n",
      "leia\n",
      "nosolution\n",
      "kingsley\n",
      "nosolution\n",
      "jed\n",
      "nosolution\n",
      "itits\n",
      "nosolution\n",
      "imdbs\n",
      "nosolution\n",
      "helena\n",
      "nosolution\n",
      "hedy\n",
      "nosolution\n",
      "hamill\n",
      "nosolution\n",
      "gilligans\n",
      "nosolution\n",
      "directorwriter\n",
      "nosolution\n",
      "deathstalker\n",
      "nosolution\n",
      "darkman\n",
      "nosolution\n",
      "colourful\n",
      "nosolution\n",
      "caruso\n",
      "nosolution\n",
      "bruckheimer\n",
      "nosolution\n",
      "bonham\n",
      "nosolution\n",
      "bogdanovich\n",
      "nosolution\n",
      "bgrade\n",
      "nosolution\n",
      "badthe\n",
      "nosolution\n",
      "aiello\n",
      "nosolution\n",
      "1942\n",
      "nosolution\n",
      "willem\n",
      "nosolution\n",
      "vonnegut\n",
      "nosolution\n",
      "travelling\n",
      "nosolution\n",
      "tigerland\n",
      "nosolution\n",
      "therethe\n",
      "nosolution\n",
      "sabu\n",
      "nosolution\n",
      "runofthemill\n",
      "nosolution\n",
      "rohmer\n",
      "nosolution\n",
      "recognise\n",
      "nosolution\n",
      "patton\n",
      "nosolution\n",
      "pacinos\n",
      "nosolution\n",
      "otoole\n",
      "nosolution\n",
      "osullivan\n",
      "nosolution\n",
      "nielsen\n",
      "nosolution\n",
      "mpaa\n",
      "nosolution\n",
      "macbeth\n",
      "nosolution\n",
      "lanza\n",
      "nosolution\n",
      "jovi\n",
      "nosolution\n",
      "jameson\n",
      "nosolution\n"
     ]
    }
   ],
   "source": [
    "for i in range(len(vectorize_layer.get_vocabulary())):\n",
    "  try:\n",
    "    pretrained_embeddings.append(word2vec[vectorize_layer.get_vocabulary()[i]])\n",
    "  except:\n",
    "    print(vectorize_layer.get_vocabulary()[i])\n",
    "    try:\n",
    "      pretrained_embeddings.append(word2vec[first_caps(vectorize_layer.get_vocabulary()[i])])\n",
    "      print('toupper')\n",
    "    except:\n",
    "      print('nosolution')\n",
    "      pretrained_embeddings.append(random.normal(loc=0, scale=1, size=(EMBEDDING_DIM)))#reloaded_word_vectors[vectorize_layer.get_vocabulary()[i]])\n",
    "  if i%1000==0:\n",
    "    print('iis====================================',i)"
   ]
  },
  {
   "cell_type": "code",
   "execution_count": 71,
   "metadata": {},
   "outputs": [
    {
     "name": "stdout",
     "output_type": "stream",
     "text": [
      "(10000, 300)\n"
     ]
    }
   ],
   "source": [
    "pretrained_embeddings_array=np.array(pretrained_embeddings)\n",
    "print(pretrained_embeddings_array.shape)"
   ]
  },
  {
   "cell_type": "code",
   "execution_count": 72,
   "metadata": {},
   "outputs": [
    {
     "data": {
      "text/plain": [
       "(10000, 300)"
      ]
     },
     "execution_count": 72,
     "metadata": {},
     "output_type": "execute_result"
    }
   ],
   "source": [
    "pretrained_embeddings_array.shape"
   ]
  },
  {
   "cell_type": "code",
   "execution_count": 73,
   "metadata": {},
   "outputs": [
    {
     "name": "stdout",
     "output_type": "stream",
     "text": [
      "Model: \"sequential_4\"\n",
      "_________________________________________________________________\n",
      " Layer (type)                Output Shape              Param #   \n",
      "=================================================================\n",
      " embedding_5 (Embedding)     (None, 250, 300)          3000000   \n",
      "                                                                 \n",
      " conv1d_1 (Conv1D)           (None, 248, 32)           28832     \n",
      "                                                                 \n",
      " flatten_1 (Flatten)         (None, 7936)              0         \n",
      "                                                                 \n",
      " dense_6 (Dense)             (None, 32)                253984    \n",
      "                                                                 \n",
      " dropout_2 (Dropout)         (None, 32)                0         \n",
      "                                                                 \n",
      " dense_7 (Dense)             (None, 1)                 33        \n",
      "                                                                 \n",
      "=================================================================\n",
      "Total params: 3,282,849\n",
      "Trainable params: 3,282,849\n",
      "Non-trainable params: 0\n",
      "_________________________________________________________________\n"
     ]
    }
   ],
   "source": [
    "EMBEDDING_DIM=300\n",
    "model=tf.keras.models.Sequential([\n",
    "    Input(shape=(SEQUENCE_LENGTH,)),\n",
    "    Embedding(\n",
    "        VOCAB_SIZE,\n",
    "        EMBEDDING_DIM,\n",
    "        embeddings_initializer=tf.keras.initializers.Constant(pretrained_embeddings_array),\n",
    "        trainable=True,\n",
    "    ),\n",
    "\n",
    "    Conv1D(32, 3, activation='relu',),\n",
    "    Flatten(),\n",
    "    Dense(32, activation='relu'),\n",
    "    Dropout(0.5),\n",
    "    Dense(1,activation='sigmoid'),\n",
    "])\n",
    "model.summary()"
   ]
  },
  {
   "cell_type": "code",
   "execution_count": 74,
   "metadata": {},
   "outputs": [],
   "source": [
    "model.compile(loss=BinaryCrossentropy(),\n",
    "              optimizer=Adam(1e-4),\n",
    "              metrics=['accuracy'])"
   ]
  },
  {
   "cell_type": "code",
   "execution_count": 75,
   "metadata": {},
   "outputs": [
    {
     "name": "stdout",
     "output_type": "stream",
     "text": [
      "Epoch 1/10\n",
      "391/391 [==============================] - 25s 39ms/step - loss: 0.6983 - accuracy: 0.5091 - val_loss: 0.6929 - val_accuracy: 0.5140\n",
      "Epoch 2/10\n",
      "391/391 [==============================] - 26s 67ms/step - loss: 0.6902 - accuracy: 0.5237 - val_loss: 0.6933 - val_accuracy: 0.5184\n",
      "Epoch 3/10\n",
      "391/391 [==============================] - 16s 40ms/step - loss: 0.6800 - accuracy: 0.5524 - val_loss: 0.6811 - val_accuracy: 0.5626\n",
      "Epoch 4/10\n",
      "391/391 [==============================] - 8s 20ms/step - loss: 0.6353 - accuracy: 0.6325 - val_loss: 0.5973 - val_accuracy: 0.6914\n",
      "Epoch 5/10\n",
      "391/391 [==============================] - 8s 21ms/step - loss: 0.4733 - accuracy: 0.7773 - val_loss: 0.4025 - val_accuracy: 0.8240\n",
      "Epoch 6/10\n",
      "391/391 [==============================] - 8s 21ms/step - loss: 0.3457 - accuracy: 0.8570 - val_loss: 0.3562 - val_accuracy: 0.8444\n",
      "Epoch 7/10\n",
      "391/391 [==============================] - 8s 21ms/step - loss: 0.2857 - accuracy: 0.8866 - val_loss: 0.3428 - val_accuracy: 0.8528\n",
      "Epoch 8/10\n",
      "391/391 [==============================] - 8s 21ms/step - loss: 0.2463 - accuracy: 0.9050 - val_loss: 0.3354 - val_accuracy: 0.8558\n",
      "Epoch 9/10\n",
      "391/391 [==============================] - 8s 21ms/step - loss: 0.2144 - accuracy: 0.9204 - val_loss: 0.3376 - val_accuracy: 0.8575\n",
      "Epoch 10/10\n",
      "391/391 [==============================] - 8s 21ms/step - loss: 0.1881 - accuracy: 0.9319 - val_loss: 0.3394 - val_accuracy: 0.8583\n"
     ]
    }
   ],
   "source": [
    "history=model.fit(\n",
    "    train_dataset,\n",
    "    validation_data=val_dataset,\n",
    "    epochs=10\n",
    ")"
   ]
  },
  {
   "cell_type": "code",
   "execution_count": 76,
   "metadata": {},
   "outputs": [
    {
     "data": {
      "image/png": "[encoded data removed]",
      "text/plain": [
       "<Figure size 640x480 with 1 Axes>"
      ]
     },
     "metadata": {},
     "output_type": "display_data"
    }
   ],
   "source": [
    "plt.plot(history.history['loss'])\n",
    "plt.plot(history.history['val_loss'])\n",
    "plt.title('model_loss')\n",
    "plt.ylabel('loss')\n",
    "plt.xlabel('epoch')\n",
    "plt.legend(['train', 'val'], loc='upper left')\n",
    "plt.show()"
   ]
  },
  {
   "cell_type": "code",
   "execution_count": 77,
   "metadata": {},
   "outputs": [
    {
     "data": {
      "image/png": "[encoded data removed]",
      "text/plain": [
       "<Figure size 640x480 with 1 Axes>"
      ]
     },
     "metadata": {},
     "output_type": "display_data"
    }
   ],
   "source": [
    "plt.plot(history.history['accuracy'])\n",
    "plt.plot(history.history['val_accuracy'])\n",
    "\n",
    "plt.title('model_accuracy')\n",
    "plt.ylabel('accuracy')\n",
    "plt.xlabel('epoch')\n",
    "plt.legend(['train', 'val'], loc='upper left')\n",
    "plt.show()"
   ]
  },
  {
   "cell_type": "markdown",
   "metadata": {},
   "source": [
    "#### Evaluation"
   ]
  },
  {
   "cell_type": "code",
   "execution_count": 78,
   "metadata": {},
   "outputs": [
    {
     "name": "stdout",
     "output_type": "stream",
     "text": [
      "196/196 [==============================] - 4s 16ms/step - loss: 0.3449 - accuracy: 0.8539\n"
     ]
    },
    {
     "data": {
      "text/plain": [
       "[0.3449142277240753, 0.8539199829101562]"
      ]
     },
     "execution_count": 78,
     "metadata": {},
     "output_type": "execute_result"
    }
   ],
   "source": [
    "test_dataset=test_ds.map(vectorizer)\n",
    "test_dataset=test_dataset.batch(BATCH_SIZE)\n",
    "model.evaluate(test_dataset)"
   ]
  },
  {
   "cell_type": "markdown",
   "metadata": {},
   "source": [
    "## Testing"
   ]
  },
  {
   "cell_type": "code",
   "execution_count": 79,
   "metadata": {},
   "outputs": [],
   "source": [
    "test_data=tf.data.Dataset.from_tensor_slices([[\"this movie looks very interesting, i love the fact that the actors do a great job in showing how people lived in the 18th century, which wasn't very good at all. But atleast this movie recreates this scenes! \"],\n",
    "                                              [\"very good start, but movie started becoming interesting at some point and fortunately at some point it started becoming much more fun, though there was too much background noise, so in all i liked this movie \"],])\n"
   ]
  },
  {
   "cell_type": "code",
   "execution_count": 80,
   "metadata": {},
   "outputs": [],
   "source": [
    "def vectorizer_test(review):\n",
    "    return vectorize_layer(review)\n",
    "test_dataset=test_data.map(vectorizer_test)"
   ]
  },
  {
   "cell_type": "code",
   "execution_count": 81,
   "metadata": {},
   "outputs": [
    {
     "data": {
      "text/plain": [
       "array([[0.8671385 ],\n",
       "       [0.76442736]], dtype=float32)"
      ]
     },
     "execution_count": 81,
     "metadata": {},
     "output_type": "execute_result"
    }
   ],
   "source": [
    "model.predict(test_dataset)"
   ]
  },
  {
   "cell_type": "markdown",
   "metadata": {},
   "source": [
    "## Model with Vectorizer"
   ]
  },
  {
   "cell_type": "code",
   "execution_count": 82,
   "metadata": {},
   "outputs": [
    {
     "name": "stdout",
     "output_type": "stream",
     "text": [
      "Model: \"model\"\n",
      "_________________________________________________________________\n",
      " Layer (type)                Output Shape              Param #   \n",
      "=================================================================\n",
      " input_7 (InputLayer)        [(None, 1)]               0         \n",
      "                                                                 \n",
      " text_vectorization (TextVec  (None, 250)              0         \n",
      " torization)                                                     \n",
      "                                                                 \n",
      " sequential_4 (Sequential)   (None, 1)                 3282849   \n",
      "                                                                 \n",
      "=================================================================\n",
      "Total params: 3,282,849\n",
      "Trainable params: 3,282,849\n",
      "Non-trainable params: 0\n",
      "_________________________________________________________________\n"
     ]
    }
   ],
   "source": [
    "inputs = Input(shape=(1,), dtype=\"string\")\n",
    "vectorized_inputs=vectorize_layer(inputs) \n",
    "outputs = model(vectorized_inputs) \n",
    "inference_ready_model = tf.keras.Model(inputs, outputs) \n",
    "inference_ready_model.summary()"
   ]
  },
  {
   "cell_type": "code",
   "execution_count": 83,
   "metadata": {},
   "outputs": [
    {
     "data": {
      "text/plain": [
       "array([[0.8671385],\n",
       "       [0.7644274]], dtype=float32)"
      ]
     },
     "execution_count": 83,
     "metadata": {},
     "output_type": "execute_result"
    }
   ],
   "source": [
    "inference_ready_model.predict([\"this movie looks very interesting, i love the fact that the actors do a great job in showing how people lived in the 18th century, which wasn't very good at all. But atleast this movie recreates this scenes! \",\n",
    "                               \"very good start, but movie started becoming interesting at some point and fortunately at some point it started becoming much more fun, though there was too much background noise, so in all i liked this movie \"])"
   ]
  },
  {
   "cell_type": "markdown",
   "metadata": {},
   "source": [
    "## Visualize Embedding"
   ]
  },
  {
   "cell_type": "code",
   "execution_count": 84,
   "metadata": {},
   "outputs": [
    {
     "name": "stdout",
     "output_type": "stream",
     "text": [
      "Model: \"sequential_5\"\n",
      "_________________________________________________________________\n",
      " Layer (type)                Output Shape              Param #   \n",
      "=================================================================\n",
      " embedding_6 (Embedding)     (None, 250, 300)          3000000   \n",
      "                                                                 \n",
      " conv1d_2 (Conv1D)           (None, 248, 32)           28832     \n",
      "                                                                 \n",
      " flatten_2 (Flatten)         (None, 7936)              0         \n",
      "                                                                 \n",
      " dense_8 (Dense)             (None, 32)                253984    \n",
      "                                                                 \n",
      " dropout_3 (Dropout)         (None, 32)                0         \n",
      "                                                                 \n",
      " dense_9 (Dense)             (None, 1)                 33        \n",
      "                                                                 \n",
      "=================================================================\n",
      "Total params: 3,282,849\n",
      "Trainable params: 3,282,849\n",
      "Non-trainable params: 0\n",
      "_________________________________________________________________\n"
     ]
    }
   ],
   "source": [
    "EMBEDDING_DIM=300\n",
    "model=tf.keras.models.Sequential([\n",
    "    Input(shape=(SEQUENCE_LENGTH,)),\n",
    "    Embedding(VOCAB_SIZE,EMBEDDING_DIM),\n",
    "\n",
    "    Conv1D(32, 3, activation='relu',),\n",
    "    Flatten(),\n",
    "    Dense(32, activation='relu'),\n",
    "    Dropout(0.5),\n",
    "    Dense(1,activation='sigmoid'),\n",
    "])\n",
    "model.summary()"
   ]
  },
  {
   "cell_type": "code",
   "execution_count": 85,
   "metadata": {},
   "outputs": [],
   "source": [
    "model.compile(loss=BinaryCrossentropy(),\n",
    "              optimizer=Adam(1e-4),\n",
    "              metrics=['accuracy'])"
   ]
  },
  {
   "cell_type": "code",
   "execution_count": 86,
   "metadata": {},
   "outputs": [],
   "source": [
    "log_dir='logs/imdb/fit/'+datetime.datetime.now().strftime(\"%Y%m%d-%H%M%S\")+'/'"
   ]
  },
  {
   "cell_type": "code",
   "execution_count": 87,
   "metadata": {},
   "outputs": [],
   "source": [
    "tensorboard_callback=tf.keras.callbacks.TensorBoard(log_dir,histogram_freq=1)"
   ]
  },
  {
   "cell_type": "code",
   "execution_count": 88,
   "metadata": {},
   "outputs": [
    {
     "name": "stdout",
     "output_type": "stream",
     "text": [
      "34/34 [==============================] - 5s 119ms/step - loss: 0.6941 - accuracy: 0.4982 - val_loss: 0.6931 - val_accuracy: 0.5061\n"
     ]
    }
   ],
   "source": [
    "history=model.fit(\n",
    "    train_dataset.take(34),\n",
    "    validation_data=val_dataset,\n",
    "    epochs=1,\n",
    "    callbacks=[tensorboard_callback])"
   ]
  },
  {
   "cell_type": "code",
   "execution_count": 89,
   "metadata": {},
   "outputs": [],
   "source": [
    "with open(os.path.join(log_dir,'metadata.tsv'),\"w\",encoding=\"utf-8\") as f:\n",
    "  for i in range(VOCAB_SIZE):\n",
    "    f.write(\"{} {}\\n\".format(i,vectorize_layer.get_vocabulary()[i]))"
   ]
  },
  {
   "cell_type": "code",
   "execution_count": 90,
   "metadata": {},
   "outputs": [
    {
     "name": "stdout",
     "output_type": "stream",
     "text": [
      "(10000, 300)\n"
     ]
    }
   ],
   "source": [
    "embedding_weights=tf.Variable(model.layers[0].get_weights()[0])\n",
    "print(embedding_weights.shape)"
   ]
  },
  {
   "cell_type": "code",
   "execution_count": 94,
   "metadata": {},
   "outputs": [],
   "source": [
    "checkpoint=tf.train.Checkpoint(embedding=embedding_weights)\n",
    "checkpoint.save(os.path.join(log_dir,\"embedding.ckpt\"))\n",
    "\n",
    "config=projector.ProjectorConfig()\n",
    "embedding=config.embeddings.add()"
   ]
  },
  {
   "cell_type": "code",
   "execution_count": 95,
   "metadata": {},
   "outputs": [],
   "source": [
    "embedding.metadata_path='metadata.tsv'\n",
    "projector.visualize_embeddings(log_dir,config)"
   ]
  },
  {
   "cell_type": "code",
   "execution_count": 96,
   "metadata": {},
   "outputs": [],
   "source": [
    "%load_ext tensorboard"
   ]
  },
  {
   "cell_type": "code",
   "execution_count": 97,
   "metadata": {},
   "outputs": [
    {
     "data": {
      "text/html": [
       "\n",
       "      <iframe id=\"tensorboard-frame-24ed252ccfdf6730\" width=\"100%\" height=\"800\" frameborder=\"0\">\n",
       "      </iframe>\n",
       "      <script>\n",
       "        (function() {\n",
       "          const frame = document.getElementById(\"tensorboard-frame-24ed252ccfdf6730\");\n",
       "          const url = new URL(\"/\", window.location);\n",
       "          const port = 6006;\n",
       "          if (port) {\n",
       "            url.port = port;\n",
       "          }\n",
       "          frame.src = url;\n",
       "        })();\n",
       "      </script>\n",
       "    "
      ],
      "text/plain": [
       "<IPython.core.display.HTML object>"
      ]
     },
     "metadata": {},
     "output_type": "display_data"
    }
   ],
   "source": [
    "%tensorboard --logdir logs/imdb/fit/"
   ]
  }
 ],
 "metadata": {
  "kernelspec": {
   "display_name": "tf_new",
   "language": "python",
   "name": "python3"
  },
  "language_info": {
   "codemirror_mode": {
    "name": "ipython",
    "version": 3
   },
   "file_extension": ".py",
   "mimetype": "text/x-python",
   "name": "python",
   "nbconvert_exporter": "python",
   "pygments_lexer": "ipython3",
   "version": "3.8.20"
  }
 },
 "nbformat": 4,
 "nbformat_minor": 2
}
